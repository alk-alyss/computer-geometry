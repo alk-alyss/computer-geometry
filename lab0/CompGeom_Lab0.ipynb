{
  "cells": [
    {
      "cell_type": "markdown",
      "metadata": {
        "id": "KA4x_86FMmLL"
      },
      "source": [
        "# Hello Notebook! \n",
        "Why use a notebook?\n",
        "\n",
        "\n",
        "*   Run scripts of code and it save all the variables until you terminate it.\n",
        "*   Write code, test it and proceed without having to start over (especially usefull when you have to run time consuming tasks)\n",
        "*   Combine text with code, so that you can add more comments and details about the code you write. You can even add pictures, comment on the results and even create a full report of your work. \n",
        "\n",
        "# Google Colab\n",
        "\n",
        "An online platform from google that lets you run interactive notebooks. \n",
        "\n"
      ]
    },
    {
      "cell_type": "markdown",
      "metadata": {
        "id": "iBv91QTOMdlC"
      },
      "source": [
        "In a Notebook except for python code or text you can also run cmd commands. You can use these commands for example to install a python librady."
      ]
    },
    {
      "cell_type": "code",
      "execution_count": 7,
      "metadata": {
        "colab": {
          "base_uri": "https://localhost:8080/"
        },
        "id": "zHENhLclOQ7w",
        "outputId": "128869aa-71bc-4297-e2ed-f4417acbef37"
      },
      "outputs": [
        {
          "name": "stdout",
          "output_type": "stream",
          "text": [
            "/home/alkinoos/Documents/3d geometry/lab0\n"
          ]
        }
      ],
      "source": [
        "!pwd"
      ]
    },
    {
      "cell_type": "code",
      "execution_count": 8,
      "metadata": {
        "id": "BoKg78AROX2c"
      },
      "outputs": [],
      "source": [
        "# !pip install open3d"
      ]
    },
    {
      "cell_type": "markdown",
      "metadata": {
        "id": "EZ_R82_1Q9Iw"
      },
      "source": [
        "# Python code in notebooks\n",
        "\n",
        "* Matrices as Lists\n",
        "* Matrix multiplication\n"
      ]
    },
    {
      "cell_type": "code",
      "execution_count": 9,
      "metadata": {
        "id": "A2wFIA1mRFRz"
      },
      "outputs": [
        {
          "data": {
            "text/plain": [
              "[[0.261558645513849,\n",
              "  0.11369556221398791,\n",
              "  0.678393285842335,\n",
              "  0.14179249301623487],\n",
              " [0.76798136772329,\n",
              "  0.6978233494076946,\n",
              "  0.41002854440342906,\n",
              "  0.12231121151944857],\n",
              " [0.858005501972336,\n",
              "  0.8906988254080855,\n",
              "  0.5972696785680269,\n",
              "  0.8771545331648442]]"
            ]
          },
          "execution_count": 9,
          "metadata": {},
          "output_type": "execute_result"
        }
      ],
      "source": [
        "# create a list of random numbers\n",
        "import random \n",
        "\n",
        "def create_random_matrix(x, y):\n",
        "    m = []\n",
        "    for i in range(x):\n",
        "      col = [] \n",
        "      for j in range(y):\n",
        "        col.append(random.random())\n",
        "      m.append(col)\n",
        "    return m\n",
        "\n",
        "# create a 3x4 matrix\n",
        "create_random_matrix(3, 4) # see that we don't have to use print"
      ]
    },
    {
      "cell_type": "code",
      "execution_count": 10,
      "metadata": {
        "id": "Ph87wflHTbuE"
      },
      "outputs": [
        {
          "data": {
            "text/plain": [
              "[[0.47373234680450604, 0.20060020448704696, 0.6231948228856172],\n",
              " [0.05527651340998563, 0.12293233547799709, 0.8537651938010385],\n",
              " [0.14327813227152908, 0.6556056534062356, 0.7904534319001656],\n",
              " [0.25587079657396405, 0.6039008904579104, 0.024712462699837623]]"
            ]
          },
          "execution_count": 10,
          "metadata": {},
          "output_type": "execute_result"
        }
      ],
      "source": [
        "mat = create_random_matrix(4, 3)\n",
        "mat"
      ]
    },
    {
      "cell_type": "markdown",
      "metadata": {
        "id": "0YZTfuuRULwq"
      },
      "source": [
        "# Matrix Multiplication"
      ]
    },
    {
      "cell_type": "code",
      "execution_count": 11,
      "metadata": {
        "id": "whlRSnRXUJKA"
      },
      "outputs": [
        {
          "data": {
            "text/plain": [
              "[[1.0432767491454347, 1.9581334485448256],\n",
              " [1.4307837271924835, 2.2313268991562953]]"
            ]
          },
          "execution_count": 11,
          "metadata": {},
          "output_type": "execute_result"
        }
      ],
      "source": [
        "def matmul(a, b):\n",
        "    \n",
        "    #check that the multiplication is actually possible\n",
        "    assert len(a[0]) == len(b)\n",
        "    \n",
        "    #number of rows and columns\n",
        "    n, m = len(a), len(b[0])\n",
        "    \n",
        "    #reserving memory for the output\n",
        "    result = [[0] * m for _ in range(n)]\n",
        "    \n",
        "    #iterating over rows and columns\n",
        "    for i in range(n):\n",
        "        for j in range(m):\n",
        "            #result is the dot product between the ith row of a and the jth column of b\n",
        "            for k in range(len(b)):\n",
        "                result[i][j] += a[i][k] * b[k][j]\n",
        "    return result\n",
        "\n",
        "mat1 = create_random_matrix(2, 10)\n",
        "mat2 = create_random_matrix(10, 2)\n",
        "\n",
        "mat = matmul(mat1, mat2)\n",
        "mat"
      ]
    },
    {
      "cell_type": "markdown",
      "metadata": {
        "id": "O8OqANr4U8w5"
      },
      "source": [
        "# Monitor your process\n",
        "When you have to iterate over a process for a long time, it is important to know how your process is following. One way to do this is to use a progress bar.  \n",
        "\n",
        "For this you can use tqdm:\n",
        "\n",
        "\n",
        "```\n",
        "from tqdm import tqdm\n",
        "\n",
        "for i in tqdm(range):\n",
        "  # you iterative process\n",
        "```"
      ]
    },
    {
      "cell_type": "code",
      "execution_count": 12,
      "metadata": {
        "id": "mRODsp-BYxna"
      },
      "outputs": [],
      "source": [
        "from tqdm import tqdm\n",
        "import time"
      ]
    },
    {
      "cell_type": "code",
      "execution_count": 13,
      "metadata": {
        "id": "qI230i6LYUDH"
      },
      "outputs": [
        {
          "name": "stderr",
          "output_type": "stream",
          "text": [
            "100%|██████████| 10/10 [00:12<00:00,  1.23s/it]"
          ]
        },
        {
          "name": "stdout",
          "output_type": "stream",
          "text": [
            "Total time per multiplication: 12.357289 seconds\n",
            "Average time per multiplication: 1.235729 seconds\n"
          ]
        },
        {
          "name": "stderr",
          "output_type": "stream",
          "text": [
            "\n"
          ]
        }
      ],
      "source": [
        "# make 100 matrix multiplications of 100x100 matrices\n",
        "iterations = 10\n",
        "\n",
        "mat1 = create_random_matrix(100, 1000)\n",
        "mat2 = create_random_matrix(1000, 100)\n",
        "\n",
        "start_time = time.time()\n",
        "\n",
        "for i in tqdm(range(iterations)):\n",
        "    matmul(mat1, mat2)\n",
        "\n",
        "end_time = time.time()\n",
        "\n",
        "total_time = end_time - start_time\n",
        "avg_time_per_multiplication = total_time / iterations\n",
        "print(\"Total time per multiplication: {:.6f} seconds\".format(total_time))\n",
        "print(\"Average time per multiplication: {:.6f} seconds\".format(avg_time_per_multiplication))"
      ]
    },
    {
      "cell_type": "markdown",
      "metadata": {
        "id": "qDYP3oK2ZRRU"
      },
      "source": [
        "This process is very slow and its not affordable in large applications. \n",
        "\n",
        "Solution....\n",
        "\n",
        "# NumPy"
      ]
    },
    {
      "cell_type": "markdown",
      "metadata": {
        "id": "xMt_SLiJagTL"
      },
      "source": [
        "# Array Creation #"
      ]
    },
    {
      "cell_type": "code",
      "execution_count": null,
      "metadata": {},
      "outputs": [],
      "source": []
    },
    {
      "cell_type": "code",
      "execution_count": 15,
      "metadata": {
        "id": "miX766MFaRpv"
      },
      "outputs": [
        {
          "name": "stdout",
          "output_type": "stream",
          "text": [
            "[1. 2. 3.]\n",
            "[[0.37454012 0.95071431 0.73199394]\n",
            " [0.59865848 0.15601864 0.15599452]\n",
            " [0.05808361 0.86617615 0.60111501]]\n",
            "[0.         0.11111111 0.22222222 0.33333333 0.44444444 0.55555556\n",
            " 0.66666667 0.77777778 0.88888889 1.        ]\n",
            "[0 1 2 3 4 5 6 7 8 9]\n"
          ]
        }
      ],
      "source": [
        "import numpy as np\n",
        "\n",
        "#From list\n",
        "a1 = np.array([1, 2, 3], dtype=np.float64)\n",
        "\n",
        "#Random numbers\n",
        "np.random.seed(42)\n",
        "a2 = np.random.random((3, 3))\n",
        "\n",
        "#Equally spaced numbers\n",
        "a3 = np.linspace(0, 1, 10)\n",
        "\n",
        "#Serial numbers\n",
        "a4 = np.arange(10)\n",
        "\n",
        "print(a1)\n",
        "print(a2)\n",
        "print(a3)\n",
        "print(a4)"
      ]
    },
    {
      "cell_type": "markdown",
      "metadata": {
        "id": "gBk_r6Sxax37"
      },
      "source": [
        "# Array Manipulation"
      ]
    },
    {
      "cell_type": "code",
      "execution_count": null,
      "metadata": {
        "id": "OsS3fPska2aS"
      },
      "outputs": [],
      "source": [
        "#---Array shape---\n",
        "# print(a1.shape)\n",
        "# print(a2.shape)\n",
        "# print(a3.shape)\n",
        "\n",
        "#---Array data type---\n",
        "# print(a1.dtype)\n",
        "# print(a2.dtype)\n",
        "# print(a3.dtype)\n",
        "\n",
        "#---Reshaping an array---\n",
        "a3 = a3.reshape(2, 5)\n",
        "print(a3)\n",
        "\n",
        "#---Indexing---\n",
        "a = np.random.random((100, 3))\n",
        "\n",
        "#get element 0, 0\n",
        "print(a[0,0])\n",
        "\n",
        "#get first row\n",
        "print(a[0,:], a[0,:].shape)\n",
        "\n",
        "#get first column\n",
        "print(a[:,0].shape)\n",
        "\n",
        "#get elements 10 through 20 of the first column\n",
        "print(a[10:20, 0].shape)"
      ]
    },
    {
      "cell_type": "markdown",
      "metadata": {
        "id": "HLvTMqQTa7yZ"
      },
      "source": [
        "# Array Operations"
      ]
    },
    {
      "cell_type": "code",
      "execution_count": null,
      "metadata": {
        "id": "eaT7q-uQbAYU"
      },
      "outputs": [],
      "source": [
        "mat1 = np.eye(3) * 2\n",
        "mat2 = np.linspace(0,1,9).reshape(3, 3)\n",
        "vec1 = np.arange(3)\n",
        "vec2 = np.random.random((3, 1))\n",
        "# print(mat1)\n",
        "# print(mat2)\n",
        "\n",
        "\n",
        "#matrix addition\n",
        "mat3 = mat1 + mat2\n",
        "# print(mat3)\n",
        "\n",
        "#Hadamard product (element-wise multiplication)\n",
        "mat3 = mat1 * mat2\n",
        "# print(mat3)\n",
        "\n",
        "#Matrix multiplication\n",
        "mat3 = mat1 @ mat2\n",
        "# print(mat3)\n",
        "\n",
        "#Multiplication by a scalar\n",
        "mat3 = mat1 * 0.3\n",
        "\n",
        "#Matrix - vector multiplication\n",
        "mat3 = mat1 @ vec1\n",
        "# print(mat3.shape)\n",
        "# print(mat3)\n",
        "\n",
        "#broadcasting\n",
        "mat3 = (mat1 + 1) * vec2\n",
        "# print(mat1 + 1, mat1.shape)\n",
        "# print(vec2, vec2.shape)\n",
        "# print(mat3)"
      ]
    },
    {
      "cell_type": "code",
      "execution_count": null,
      "metadata": {
        "id": "QYgB_qHNIBqN"
      },
      "outputs": [],
      "source": [
        "# importing libraries\n",
        "import numpy as np\n",
        "import open3d as o3d"
      ]
    },
    {
      "cell_type": "markdown",
      "metadata": {
        "id": "rDJ8dWJsbie6"
      },
      "source": []
    },
    {
      "cell_type": "code",
      "execution_count": null,
      "metadata": {
        "id": "WZ27J_Y8bd56"
      },
      "outputs": [],
      "source": [
        "# Define the matrices to be multiplied\n",
        "a = np.random.random((100, 100))\n",
        "b = np.random.random((100, 100))\n",
        "\n",
        "\n",
        "# Perform N matrix multiplications and measure the time it takes\n",
        "start_time = time.time()\n",
        "\n",
        "for i in tqdm(range(iterations)):\n",
        "    c = a @ b\n",
        "\n",
        "end_time = time.time()\n",
        "\n",
        "\n",
        "# Print the average time per multiplication\n",
        "total_time = end_time - start_time\n",
        "avg_time_per_multiplication = total_time / iterations\n",
        "\n",
        "print(\"Total time per multiplication: {:.6f} seconds\".format(total_time))\n",
        "print(\"Average time per multiplication: {:.6f} seconds\".format(avg_time_per_multiplication))"
      ]
    },
    {
      "cell_type": "markdown",
      "metadata": {
        "id": "1ziBU1pFbqbW"
      },
      "source": [
        "# *Open3D*\n",
        "\n",
        "Loading a mesh file"
      ]
    },
    {
      "cell_type": "code",
      "execution_count": null,
      "metadata": {
        "id": "JEzD_oPkIXmc"
      },
      "outputs": [],
      "source": [
        "# load an object from the open3d library - used only to get the path of the mesh file\n",
        "armadillo_mesh = o3d.data.ArmadilloMesh()\n",
        "path = armadillo_mesh.path\n",
        "path"
      ]
    },
    {
      "cell_type": "code",
      "execution_count": null,
      "metadata": {
        "id": "-O-moLH3Ije9"
      },
      "outputs": [],
      "source": [
        "# loading a mesh from a file\n",
        "mesh = o3d.io.read_triangle_mesh(path)\n",
        "o3d.visualization.draw_plotly([mesh])"
      ]
    },
    {
      "cell_type": "markdown",
      "metadata": {
        "id": "C0S8CArGb9UY"
      },
      "source": [
        "## Create a Point Cloud from a mesh file\n",
        "Use the vertices of the mesh to construct a point cloud"
      ]
    },
    {
      "cell_type": "code",
      "execution_count": null,
      "metadata": {
        "id": "TwHzVTl4L_wp"
      },
      "outputs": [],
      "source": [
        "# get the vertices of the mesh\n",
        "vertices = mesh.vertices\n",
        "type(vertices)"
      ]
    },
    {
      "cell_type": "code",
      "execution_count": null,
      "metadata": {
        "id": "2-KtMPOOcMM5"
      },
      "outputs": [],
      "source": [
        "# transform the vertices to numpy format\n",
        "vertices = np.asarray(vertices)\n",
        "type(vertices)"
      ]
    },
    {
      "cell_type": "code",
      "execution_count": null,
      "metadata": {
        "id": "LUGf_LXucd8l"
      },
      "outputs": [],
      "source": [
        "vertices.shape"
      ]
    },
    {
      "cell_type": "markdown",
      "metadata": {
        "id": "uCvrnza6cb4k"
      },
      "source": [
        "Create a point cloud from a set of points"
      ]
    },
    {
      "cell_type": "code",
      "execution_count": null,
      "metadata": {
        "id": "N4OngUpFcYw7"
      },
      "outputs": [],
      "source": [
        "# create an empty point cloud\n",
        "pcd = o3d.geometry.PointCloud()\n",
        "pcd.points = o3d.utility.Vector3dVector(vertices)\n",
        "\n",
        "o3d.visualization.draw_plotly([pcd])\n",
        "# zoom in to see the points"
      ]
    },
    {
      "cell_type": "code",
      "execution_count": null,
      "metadata": {
        "id": "aod5mt6WdDQr"
      },
      "outputs": [],
      "source": [
        "# a more object oriented way to create the point cloud from numpy data\n",
        "pcd = o3d.utility.Vector3dVector(vertices)\n",
        "pcd = o3d.geometry.PointCloud(pcd) # pass the points at the constructor\n",
        "\n",
        "o3d.visualization.draw_plotly([pcd])"
      ]
    },
    {
      "cell_type": "markdown",
      "metadata": {
        "id": "UWxlbCm1dtmi"
      },
      "source": [
        "## Point Cloud downsampling\n",
        "\n",
        "Keep 1024 random points for the point cloud\n",
        "\n",
        "* Shuffle the points of the point cloud (search documentation)\n",
        "* Use indexing to keep the first 1024 points"
      ]
    },
    {
      "cell_type": "code",
      "execution_count": null,
      "metadata": {
        "id": "22l9n0_TdlDh"
      },
      "outputs": [],
      "source": [
        "np.random.shuffle(vertices)\n",
        "vertices = vertices[:1024, :]"
      ]
    },
    {
      "cell_type": "code",
      "execution_count": null,
      "metadata": {
        "id": "Jm3B_IPMdsCI"
      },
      "outputs": [],
      "source": [
        "# visualize the new downsampled point cloud\n",
        "pcd = o3d.utility.Vector3dVector(vertices)\n",
        "pcd = o3d.geometry.PointCloud(pcd) # pass the points at the constructor\n",
        "\n",
        "o3d.visualization.draw_plotly([pcd])"
      ]
    },
    {
      "cell_type": "markdown",
      "metadata": {
        "id": "AAp0Xn7CfXP3"
      },
      "source": [
        "## Paint the points of the point cloud depending on their position across the x-axis"
      ]
    },
    {
      "cell_type": "code",
      "execution_count": null,
      "metadata": {
        "id": "8nBWoi_0fSrs"
      },
      "outputs": [],
      "source": [
        "colors = np.zeros_like(vertices)\n",
        "colors[:,0] = vertices[:,0]\n",
        "\n",
        "pcd.colors = o3d.utility.Vector3dVector(colors)\n",
        "\n",
        "o3d.visualization.draw_plotly([pcd])"
      ]
    },
    {
      "cell_type": "code",
      "execution_count": null,
      "metadata": {
        "id": "CpLj_DUlis2E"
      },
      "outputs": [],
      "source": [
        "colors = np.zeros_like(vertices)\n",
        "x = vertices[:,0]\n",
        "x = (x - x.min())/ (x.max() - x.min())\n",
        "colors[:,0] = x\n",
        "\n",
        "pcd.colors = o3d.utility.Vector3dVector(colors)\n",
        "\n",
        "o3d.visualization.draw_plotly([pcd])"
      ]
    },
    {
      "cell_type": "code",
      "execution_count": null,
      "metadata": {
        "id": "JuwnRHXzkTkB"
      },
      "outputs": [],
      "source": []
    }
  ],
  "metadata": {
    "colab": {
      "provenance": []
    },
    "kernelspec": {
      "display_name": "Python 3",
      "language": "python",
      "name": "python3"
    },
    "language_info": {
      "codemirror_mode": {
        "name": "ipython",
        "version": 3
      },
      "file_extension": ".py",
      "mimetype": "text/x-python",
      "name": "python",
      "nbconvert_exporter": "python",
      "pygments_lexer": "ipython3",
      "version": "3.10.9"
    },
    "vscode": {
      "interpreter": {
        "hash": "e7370f93d1d0cde622a1f8e1c04877d8463912d04d973331ad4851f04de6915a"
      }
    }
  },
  "nbformat": 4,
  "nbformat_minor": 0
}
